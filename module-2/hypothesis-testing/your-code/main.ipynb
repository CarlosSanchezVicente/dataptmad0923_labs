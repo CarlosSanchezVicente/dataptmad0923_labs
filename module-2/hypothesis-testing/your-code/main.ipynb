{
 "cells": [
  {
   "cell_type": "markdown",
   "metadata": {},
   "source": [
    "# Before you start:\n",
    "- Read the README.md file\n",
    "- Comment as much as you can and use the resources (README.md file)\n",
    "- Happy learning!"
   ]
  },
  {
   "cell_type": "code",
   "execution_count": 111,
   "metadata": {},
   "outputs": [],
   "source": [
    "# import numpy and pandas\n",
    "import numpy as np\n",
    "import pandas as pd\n",
    "\n",
    "from statsmodels.stats.weightstats import ztest\n",
    "from statsmodels.stats.weightstats import ttest_ind\n",
    "from statsmodels.stats.proportion import proportions_ztest\n",
    "from scipy.stats import t\n",
    "\n",
    "import seaborn as sns\n",
    "import matplotlib.pylab as plt"
   ]
  },
  {
   "cell_type": "markdown",
   "metadata": {},
   "source": [
    "# Challenge 1 - Exploring the Data\n",
    "\n",
    "In this challenge, we will examine all salaries of employees of the City of Chicago. We will start by loading the dataset and examining its contents. Please, load the data using Ironhack's database (db: employees, table: employees_advanced)."
   ]
  },
  {
   "cell_type": "code",
   "execution_count": 2,
   "metadata": {},
   "outputs": [],
   "source": [
    "# Your code here:\n",
    "path_data = '../data/Current_Employee_Names__Salaries__and_Position_Titles.csv'\n",
    "salaries = pd.read_csv(path_data)"
   ]
  },
  {
   "cell_type": "markdown",
   "metadata": {},
   "source": [
    "Examine the `salaries` dataset using the `head` function below."
   ]
  },
  {
   "cell_type": "code",
   "execution_count": 3,
   "metadata": {},
   "outputs": [
    {
     "data": {
      "text/html": [
       "<div>\n",
       "<style scoped>\n",
       "    .dataframe tbody tr th:only-of-type {\n",
       "        vertical-align: middle;\n",
       "    }\n",
       "\n",
       "    .dataframe tbody tr th {\n",
       "        vertical-align: top;\n",
       "    }\n",
       "\n",
       "    .dataframe thead th {\n",
       "        text-align: right;\n",
       "    }\n",
       "</style>\n",
       "<table border=\"1\" class=\"dataframe\">\n",
       "  <thead>\n",
       "    <tr style=\"text-align: right;\">\n",
       "      <th></th>\n",
       "      <th>Name</th>\n",
       "      <th>Job Titles</th>\n",
       "      <th>Department</th>\n",
       "      <th>Full or Part-Time</th>\n",
       "      <th>Salary or Hourly</th>\n",
       "      <th>Typical Hours</th>\n",
       "      <th>Annual Salary</th>\n",
       "      <th>Hourly Rate</th>\n",
       "    </tr>\n",
       "  </thead>\n",
       "  <tbody>\n",
       "    <tr>\n",
       "      <th>0</th>\n",
       "      <td>AARON,  JEFFERY M</td>\n",
       "      <td>SERGEANT</td>\n",
       "      <td>POLICE</td>\n",
       "      <td>F</td>\n",
       "      <td>Salary</td>\n",
       "      <td>NaN</td>\n",
       "      <td>101442.0</td>\n",
       "      <td>NaN</td>\n",
       "    </tr>\n",
       "    <tr>\n",
       "      <th>1</th>\n",
       "      <td>AARON,  KARINA</td>\n",
       "      <td>POLICE OFFICER (ASSIGNED AS DETECTIVE)</td>\n",
       "      <td>POLICE</td>\n",
       "      <td>F</td>\n",
       "      <td>Salary</td>\n",
       "      <td>NaN</td>\n",
       "      <td>94122.0</td>\n",
       "      <td>NaN</td>\n",
       "    </tr>\n",
       "    <tr>\n",
       "      <th>2</th>\n",
       "      <td>AARON,  KIMBERLEI R</td>\n",
       "      <td>CHIEF CONTRACT EXPEDITER</td>\n",
       "      <td>GENERAL SERVICES</td>\n",
       "      <td>F</td>\n",
       "      <td>Salary</td>\n",
       "      <td>NaN</td>\n",
       "      <td>101592.0</td>\n",
       "      <td>NaN</td>\n",
       "    </tr>\n",
       "    <tr>\n",
       "      <th>3</th>\n",
       "      <td>ABAD JR,  VICENTE M</td>\n",
       "      <td>CIVIL ENGINEER IV</td>\n",
       "      <td>WATER MGMNT</td>\n",
       "      <td>F</td>\n",
       "      <td>Salary</td>\n",
       "      <td>NaN</td>\n",
       "      <td>110064.0</td>\n",
       "      <td>NaN</td>\n",
       "    </tr>\n",
       "    <tr>\n",
       "      <th>4</th>\n",
       "      <td>ABASCAL,  REECE E</td>\n",
       "      <td>TRAFFIC CONTROL AIDE-HOURLY</td>\n",
       "      <td>OEMC</td>\n",
       "      <td>P</td>\n",
       "      <td>Hourly</td>\n",
       "      <td>20.0</td>\n",
       "      <td>NaN</td>\n",
       "      <td>19.86</td>\n",
       "    </tr>\n",
       "  </tbody>\n",
       "</table>\n",
       "</div>"
      ],
      "text/plain": [
       "                  Name                              Job Titles  \\\n",
       "0    AARON,  JEFFERY M                                SERGEANT   \n",
       "1      AARON,  KARINA   POLICE OFFICER (ASSIGNED AS DETECTIVE)   \n",
       "2  AARON,  KIMBERLEI R                CHIEF CONTRACT EXPEDITER   \n",
       "3  ABAD JR,  VICENTE M                       CIVIL ENGINEER IV   \n",
       "4    ABASCAL,  REECE E             TRAFFIC CONTROL AIDE-HOURLY   \n",
       "\n",
       "         Department Full or Part-Time Salary or Hourly  Typical Hours  \\\n",
       "0            POLICE                 F           Salary            NaN   \n",
       "1            POLICE                 F           Salary            NaN   \n",
       "2  GENERAL SERVICES                 F           Salary            NaN   \n",
       "3       WATER MGMNT                 F           Salary            NaN   \n",
       "4              OEMC                 P           Hourly           20.0   \n",
       "\n",
       "   Annual Salary  Hourly Rate  \n",
       "0       101442.0          NaN  \n",
       "1        94122.0          NaN  \n",
       "2       101592.0          NaN  \n",
       "3       110064.0          NaN  \n",
       "4            NaN        19.86  "
      ]
     },
     "execution_count": 3,
     "metadata": {},
     "output_type": "execute_result"
    }
   ],
   "source": [
    "# Your code here:\n",
    "salaries.head()"
   ]
  },
  {
   "cell_type": "markdown",
   "metadata": {},
   "source": [
    "We see from looking at the `head` function that there is quite a bit of missing data. Let's examine how much missing data is in each column. Produce this output in the cell below"
   ]
  },
  {
   "cell_type": "code",
   "execution_count": 4,
   "metadata": {},
   "outputs": [
    {
     "name": "stdout",
     "output_type": "stream",
     "text": [
      "<class 'pandas.core.frame.DataFrame'>\n",
      "RangeIndex: 33183 entries, 0 to 33182\n",
      "Data columns (total 8 columns):\n",
      " #   Column             Non-Null Count  Dtype  \n",
      "---  ------             --------------  -----  \n",
      " 0   Name               33183 non-null  object \n",
      " 1   Job Titles         33183 non-null  object \n",
      " 2   Department         33183 non-null  object \n",
      " 3   Full or Part-Time  33183 non-null  object \n",
      " 4   Salary or Hourly   33183 non-null  object \n",
      " 5   Typical Hours      8022 non-null   float64\n",
      " 6   Annual Salary      25161 non-null  float64\n",
      " 7   Hourly Rate        8022 non-null   float64\n",
      "dtypes: float64(3), object(5)\n",
      "memory usage: 2.0+ MB\n"
     ]
    }
   ],
   "source": [
    "# Your code here:\n",
    "salaries.info()"
   ]
  },
  {
   "cell_type": "markdown",
   "metadata": {},
   "source": [
    "Let's also look at the count of hourly vs. salaried employees. Write the code in the cell below"
   ]
  },
  {
   "cell_type": "code",
   "execution_count": 5,
   "metadata": {},
   "outputs": [
    {
     "data": {
      "text/plain": [
       "Salary or Hourly\n",
       "Salary    25161\n",
       "Hourly     8022\n",
       "Name: count, dtype: int64"
      ]
     },
     "execution_count": 5,
     "metadata": {},
     "output_type": "execute_result"
    }
   ],
   "source": [
    "# Your code here:\n",
    "salaries['Salary or Hourly'].value_counts()"
   ]
  },
  {
   "cell_type": "code",
   "execution_count": 116,
   "metadata": {},
   "outputs": [
    {
     "name": "stdout",
     "output_type": "stream",
     "text": [
      "Name                 25161\n",
      "Job Titles           25161\n",
      "Department           25161\n",
      "Full or Part-Time    25161\n",
      "Salary or Hourly     25161\n",
      "Typical Hours            0\n",
      "Annual Salary        25161\n",
      "Hourly Rate              0\n",
      "dtype: int64\n",
      "Name                 8022\n",
      "Job Titles           8022\n",
      "Department           8022\n",
      "Full or Part-Time    8022\n",
      "Salary or Hourly     8022\n",
      "Typical Hours        8022\n",
      "Annual Salary           0\n",
      "Hourly Rate          8022\n",
      "dtype: int64\n"
     ]
    }
   ],
   "source": [
    "salaries_annual_df = salaries[salaries['Salary or Hourly'] == 'Salary']\n",
    "salaries_hourly_df = salaries[salaries['Salary or Hourly'] == 'Hourly']\n",
    "print(salaries_annual_df.count())\n",
    "print(salaries_hourly_df.count())"
   ]
  },
  {
   "cell_type": "markdown",
   "metadata": {},
   "source": [
    "What this information indicates is that the table contains information about two types of employees - salaried and hourly. Some columns apply only to one type of employee while other columns only apply to another kind. This is why there are so many missing values. Therefore, we will not do anything to handle the missing values."
   ]
  },
  {
   "cell_type": "markdown",
   "metadata": {},
   "source": [
    "There are different departments in the city. List all departments and the count of employees in each department."
   ]
  },
  {
   "cell_type": "code",
   "execution_count": 39,
   "metadata": {},
   "outputs": [
    {
     "data": {
      "text/plain": [
       "Department\n",
       "ADMIN HEARNG                39\n",
       "ANIMAL CONTRL               81\n",
       "AVIATION                  1629\n",
       "BOARD OF ELECTION          107\n",
       "BOARD OF ETHICS              8\n",
       "BUDGET & MGMT               46\n",
       "BUILDINGS                  269\n",
       "BUSINESS AFFAIRS           171\n",
       "CITY CLERK                  84\n",
       "CITY COUNCIL               411\n",
       "COMMUNITY DEVELOPMENT      207\n",
       "COPA                       116\n",
       "CULTURAL AFFAIRS            65\n",
       "DISABILITIES                28\n",
       "DoIT                        99\n",
       "FAMILY & SUPPORT           615\n",
       "FINANCE                    560\n",
       "FIRE                      4641\n",
       "GENERAL SERVICES           980\n",
       "HEALTH                     488\n",
       "HUMAN RELATIONS             16\n",
       "HUMAN RESOURCES             79\n",
       "INSPECTOR GEN               87\n",
       "LAW                        407\n",
       "LICENSE APPL COMM            1\n",
       "MAYOR'S OFFICE              85\n",
       "OEMC                      2102\n",
       "POLICE                   13414\n",
       "POLICE BOARD                 2\n",
       "PROCUREMENT                 92\n",
       "PUBLIC LIBRARY            1015\n",
       "STREETS & SAN             2198\n",
       "TRANSPORTN                1140\n",
       "TREASURER                   22\n",
       "WATER MGMNT               1879\n",
       "Name: Name, dtype: int64"
      ]
     },
     "execution_count": 39,
     "metadata": {},
     "output_type": "execute_result"
    }
   ],
   "source": [
    "# Your code here:\n",
    "Department = salaries.groupby('Department')['Name'].count()#.sort_values(by='Department', ascending=True)\n",
    "Department"
   ]
  },
  {
   "cell_type": "markdown",
   "metadata": {},
   "source": [
    "# Challenge 2 - Hypothesis Tests\n",
    "\n",
    "In this section of the lab, we will test whether the hourly wage of all hourly workers is significantly different from $30/hr. Import the correct one sample test function from scipy and perform the hypothesis test for a 95% two sided confidence interval."
   ]
  },
  {
   "cell_type": "code",
   "execution_count": 12,
   "metadata": {},
   "outputs": [],
   "source": [
    "# Your code here:\n",
    "# H0: u == 30 $/h\n",
    "# H1: u != 30 $/h\n",
    "# alpha = 1 - 0.95   (este es el 95% que nos dan en el enunciado)\n",
    "\n",
    "#salaries_hourly_df.describe()\n",
    "#salaries_hourly_df.head()"
   ]
  },
  {
   "cell_type": "code",
   "execution_count": 19,
   "metadata": {},
   "outputs": [
    {
     "name": "stdout",
     "output_type": "stream",
     "text": [
      "Sample mean:  32.78855771628024\n",
      "Z_score: 20.6198057854942 \n",
      "p-value: 1.8228873859286195e-94\n"
     ]
    }
   ],
   "source": [
    "hypothesis_mean = 30   # 30 $/h\n",
    "sample_mean = salaries_hourly_df['Hourly Rate'].mean()\n",
    "alpha = 0.05\n",
    "print('Sample mean: ', sample_mean)\n",
    "\n",
    "# t-test\n",
    "#tstat, p_value_t = ttest_ind(salaries_hourly_df['Hourly Rate'], value=hypothesis_mean)\n",
    "#print(f'Z_score: {tstat}', f'\\np-value: {p_value_t}')\n",
    "\n",
    "# Z-test\n",
    "Z_score, p_value = ztest(salaries_hourly_df['Hourly Rate'], value=hypothesis_mean)\n",
    "print(f'Z_score: {Z_score}', f'\\np-value: {p_value}')"
   ]
  },
  {
   "cell_type": "markdown",
   "metadata": {},
   "source": [
    "*We reject the null hypothesis (p-value < alpha). Means with 95% confidence that the alternative hypothesis is accepted, wage is significantly different than 30 dollars/hr*"
   ]
  },
  {
   "cell_type": "markdown",
   "metadata": {},
   "source": [
    "We are also curious about salaries in the police force. The chief of police in Chicago claimed in a press briefing that salaries this year are higher than last year's mean of $86000/year a year for all salaried employees. Test this one sided hypothesis using a 95% confidence interval.\n",
    "\n",
    "Hint: A one tailed test has a p-value that is half of the two tailed p-value. If our hypothesis is greater than, then to reject, the test statistic must also be positive."
   ]
  },
  {
   "cell_type": "code",
   "execution_count": 34,
   "metadata": {},
   "outputs": [
    {
     "data": {
      "text/html": [
       "<div>\n",
       "<style scoped>\n",
       "    .dataframe tbody tr th:only-of-type {\n",
       "        vertical-align: middle;\n",
       "    }\n",
       "\n",
       "    .dataframe tbody tr th {\n",
       "        vertical-align: top;\n",
       "    }\n",
       "\n",
       "    .dataframe thead th {\n",
       "        text-align: right;\n",
       "    }\n",
       "</style>\n",
       "<table border=\"1\" class=\"dataframe\">\n",
       "  <thead>\n",
       "    <tr style=\"text-align: right;\">\n",
       "      <th></th>\n",
       "      <th>Name</th>\n",
       "      <th>Job Titles</th>\n",
       "      <th>Department</th>\n",
       "      <th>Full or Part-Time</th>\n",
       "      <th>Salary or Hourly</th>\n",
       "      <th>Typical Hours</th>\n",
       "      <th>Annual Salary</th>\n",
       "      <th>Hourly Rate</th>\n",
       "    </tr>\n",
       "  </thead>\n",
       "  <tbody>\n",
       "    <tr>\n",
       "      <th>0</th>\n",
       "      <td>AARON,  JEFFERY M</td>\n",
       "      <td>SERGEANT</td>\n",
       "      <td>POLICE</td>\n",
       "      <td>F</td>\n",
       "      <td>Salary</td>\n",
       "      <td>NaN</td>\n",
       "      <td>101442.0</td>\n",
       "      <td>NaN</td>\n",
       "    </tr>\n",
       "    <tr>\n",
       "      <th>1</th>\n",
       "      <td>AARON,  KARINA</td>\n",
       "      <td>POLICE OFFICER (ASSIGNED AS DETECTIVE)</td>\n",
       "      <td>POLICE</td>\n",
       "      <td>F</td>\n",
       "      <td>Salary</td>\n",
       "      <td>NaN</td>\n",
       "      <td>94122.0</td>\n",
       "      <td>NaN</td>\n",
       "    </tr>\n",
       "    <tr>\n",
       "      <th>9</th>\n",
       "      <td>ABBATE,  TERRY M</td>\n",
       "      <td>POLICE OFFICER</td>\n",
       "      <td>POLICE</td>\n",
       "      <td>F</td>\n",
       "      <td>Salary</td>\n",
       "      <td>NaN</td>\n",
       "      <td>93354.0</td>\n",
       "      <td>NaN</td>\n",
       "    </tr>\n",
       "    <tr>\n",
       "      <th>11</th>\n",
       "      <td>ABDALLAH,  ZAID</td>\n",
       "      <td>POLICE OFFICER</td>\n",
       "      <td>POLICE</td>\n",
       "      <td>F</td>\n",
       "      <td>Salary</td>\n",
       "      <td>NaN</td>\n",
       "      <td>84054.0</td>\n",
       "      <td>NaN</td>\n",
       "    </tr>\n",
       "    <tr>\n",
       "      <th>12</th>\n",
       "      <td>ABDELHADI,  ABDALMAHD</td>\n",
       "      <td>POLICE OFFICER</td>\n",
       "      <td>POLICE</td>\n",
       "      <td>F</td>\n",
       "      <td>Salary</td>\n",
       "      <td>NaN</td>\n",
       "      <td>87006.0</td>\n",
       "      <td>NaN</td>\n",
       "    </tr>\n",
       "  </tbody>\n",
       "</table>\n",
       "</div>"
      ],
      "text/plain": [
       "                      Name                              Job Titles Department  \\\n",
       "0        AARON,  JEFFERY M                                SERGEANT     POLICE   \n",
       "1          AARON,  KARINA   POLICE OFFICER (ASSIGNED AS DETECTIVE)     POLICE   \n",
       "9         ABBATE,  TERRY M                          POLICE OFFICER     POLICE   \n",
       "11        ABDALLAH,  ZAID                           POLICE OFFICER     POLICE   \n",
       "12  ABDELHADI,  ABDALMAHD                           POLICE OFFICER     POLICE   \n",
       "\n",
       "   Full or Part-Time Salary or Hourly  Typical Hours  Annual Salary  \\\n",
       "0                  F           Salary            NaN       101442.0   \n",
       "1                  F           Salary            NaN        94122.0   \n",
       "9                  F           Salary            NaN        93354.0   \n",
       "11                 F           Salary            NaN        84054.0   \n",
       "12                 F           Salary            NaN        87006.0   \n",
       "\n",
       "    Hourly Rate  \n",
       "0           NaN  \n",
       "1           NaN  \n",
       "9           NaN  \n",
       "11          NaN  \n",
       "12          NaN  "
      ]
     },
     "execution_count": 34,
     "metadata": {},
     "output_type": "execute_result"
    }
   ],
   "source": [
    "# Your code here:\n",
    "salaries_police_df = salaries[salaries['Department'] == 'POLICE']\n",
    "salaries_police_df = salaries_police_df[salaries_police_df['Salary or Hourly'] == 'Salary']\n",
    "salaries_police_df.head()"
   ]
  },
  {
   "cell_type": "code",
   "execution_count": 35,
   "metadata": {},
   "outputs": [
    {
     "name": "stdout",
     "output_type": "stream",
     "text": [
      "<class 'pandas.core.frame.DataFrame'>\n",
      "Index: 13404 entries, 0 to 33181\n",
      "Data columns (total 8 columns):\n",
      " #   Column             Non-Null Count  Dtype  \n",
      "---  ------             --------------  -----  \n",
      " 0   Name               13404 non-null  object \n",
      " 1   Job Titles         13404 non-null  object \n",
      " 2   Department         13404 non-null  object \n",
      " 3   Full or Part-Time  13404 non-null  object \n",
      " 4   Salary or Hourly   13404 non-null  object \n",
      " 5   Typical Hours      0 non-null      float64\n",
      " 6   Annual Salary      13404 non-null  float64\n",
      " 7   Hourly Rate        0 non-null      float64\n",
      "dtypes: float64(3), object(5)\n",
      "memory usage: 942.5+ KB\n"
     ]
    }
   ],
   "source": [
    "salaries_police_df.info()"
   ]
  },
  {
   "cell_type": "code",
   "execution_count": 36,
   "metadata": {},
   "outputs": [
    {
     "data": {
      "text/html": [
       "<div>\n",
       "<style scoped>\n",
       "    .dataframe tbody tr th:only-of-type {\n",
       "        vertical-align: middle;\n",
       "    }\n",
       "\n",
       "    .dataframe tbody tr th {\n",
       "        vertical-align: top;\n",
       "    }\n",
       "\n",
       "    .dataframe thead th {\n",
       "        text-align: right;\n",
       "    }\n",
       "</style>\n",
       "<table border=\"1\" class=\"dataframe\">\n",
       "  <thead>\n",
       "    <tr style=\"text-align: right;\">\n",
       "      <th></th>\n",
       "      <th>Typical Hours</th>\n",
       "      <th>Annual Salary</th>\n",
       "      <th>Hourly Rate</th>\n",
       "    </tr>\n",
       "  </thead>\n",
       "  <tbody>\n",
       "    <tr>\n",
       "      <th>count</th>\n",
       "      <td>0.0</td>\n",
       "      <td>13404.000000</td>\n",
       "      <td>0.0</td>\n",
       "    </tr>\n",
       "    <tr>\n",
       "      <th>mean</th>\n",
       "      <td>NaN</td>\n",
       "      <td>86486.414503</td>\n",
       "      <td>NaN</td>\n",
       "    </tr>\n",
       "    <tr>\n",
       "      <th>std</th>\n",
       "      <td>NaN</td>\n",
       "      <td>18272.228294</td>\n",
       "      <td>NaN</td>\n",
       "    </tr>\n",
       "    <tr>\n",
       "      <th>min</th>\n",
       "      <td>NaN</td>\n",
       "      <td>38376.000000</td>\n",
       "      <td>NaN</td>\n",
       "    </tr>\n",
       "    <tr>\n",
       "      <th>25%</th>\n",
       "      <td>NaN</td>\n",
       "      <td>84054.000000</td>\n",
       "      <td>NaN</td>\n",
       "    </tr>\n",
       "    <tr>\n",
       "      <th>50%</th>\n",
       "      <td>NaN</td>\n",
       "      <td>90024.000000</td>\n",
       "      <td>NaN</td>\n",
       "    </tr>\n",
       "    <tr>\n",
       "      <th>75%</th>\n",
       "      <td>NaN</td>\n",
       "      <td>94524.000000</td>\n",
       "      <td>NaN</td>\n",
       "    </tr>\n",
       "    <tr>\n",
       "      <th>max</th>\n",
       "      <td>NaN</td>\n",
       "      <td>260004.000000</td>\n",
       "      <td>NaN</td>\n",
       "    </tr>\n",
       "  </tbody>\n",
       "</table>\n",
       "</div>"
      ],
      "text/plain": [
       "       Typical Hours  Annual Salary  Hourly Rate\n",
       "count            0.0   13404.000000          0.0\n",
       "mean             NaN   86486.414503          NaN\n",
       "std              NaN   18272.228294          NaN\n",
       "min              NaN   38376.000000          NaN\n",
       "25%              NaN   84054.000000          NaN\n",
       "50%              NaN   90024.000000          NaN\n",
       "75%              NaN   94524.000000          NaN\n",
       "max              NaN  260004.000000          NaN"
      ]
     },
     "execution_count": 36,
     "metadata": {},
     "output_type": "execute_result"
    }
   ],
   "source": [
    "salaries_police_df.describe()"
   ]
  },
  {
   "cell_type": "code",
   "execution_count": 37,
   "metadata": {},
   "outputs": [
    {
     "name": "stdout",
     "output_type": "stream",
     "text": [
      "Z score is:  3.081997005712994\n",
      "p value is:  0.002056169057509571\n"
     ]
    }
   ],
   "source": [
    "# Z-TEST\n",
    "# H0: u < 86k $/y\n",
    "# H1: u >= 86k $/y\n",
    "# alpha = 0.05\n",
    "\n",
    "hypothesis_mean_police = 86000   # 86000 $/h\n",
    "Z_score, p_value = ztest(salaries_police_df['Annual Salary'], value=hypothesis_mean_police)\n",
    "print('Z score is: ', Z_score)\n",
    "print('p value is: ', p_value)\n"
   ]
  },
  {
   "cell_type": "markdown",
   "metadata": {},
   "source": [
    "*We reject the null hypothesis (p-value < alpha). Means with 95% confidence that the alternative hypothesis is accepted, wages are greater than or equal to 86k.*"
   ]
  },
  {
   "cell_type": "markdown",
   "metadata": {},
   "source": [
    "Using the `crosstab` function, find the department that has the most hourly workers. "
   ]
  },
  {
   "cell_type": "code",
   "execution_count": 130,
   "metadata": {},
   "outputs": [
    {
     "name": "stdout",
     "output_type": "stream",
     "text": [
      "The deparment with most hourly workers is:  STREETS & SAN\n"
     ]
    }
   ],
   "source": [
    "# Your code here:\n",
    "# I will use the 'salaries_hourly_df' dataframe to calculate the deparment with most hourly workers\n",
    "table2 = pd.crosstab(salaries_hourly_df['Department'], salaries_hourly_df['Salary or Hourly'])   # Create crosstab\n",
    "depart_most_hourly_workers = table2['Hourly'].idxmax()   # \n",
    "print('The deparment with most hourly workers is: ', table2['Hourly'].idxmax())"
   ]
  },
  {
   "cell_type": "markdown",
   "metadata": {},
   "source": [
    "The workers from the department with the most hourly workers have complained that their hourly wage is less than $35/hour. Using a one sample t-test, test this one-sided hypothesis at the 95% confidence level."
   ]
  },
  {
   "cell_type": "code",
   "execution_count": 138,
   "metadata": {},
   "outputs": [
    {
     "name": "stdout",
     "output_type": "stream",
     "text": [
      "<class 'pandas.core.frame.DataFrame'>\n",
      "Index: 1862 entries, 7 to 33156\n",
      "Data columns (total 8 columns):\n",
      " #   Column             Non-Null Count  Dtype  \n",
      "---  ------             --------------  -----  \n",
      " 0   Name               1862 non-null   object \n",
      " 1   Job Titles         1862 non-null   object \n",
      " 2   Department         1862 non-null   object \n",
      " 3   Full or Part-Time  1862 non-null   object \n",
      " 4   Salary or Hourly   1862 non-null   object \n",
      " 5   Typical Hours      1862 non-null   float64\n",
      " 6   Annual Salary      0 non-null      float64\n",
      " 7   Hourly Rate        1862 non-null   float64\n",
      "dtypes: float64(3), object(5)\n",
      "memory usage: 130.9+ KB\n"
     ]
    }
   ],
   "source": [
    "# Your code here:\n",
    "# Extract data from the department 'Streets & San'.\n",
    "salaries_streets = salaries_hourly_df[salaries_hourly_df['Department'] == 'STREETS & SAN']\n",
    "salaries_streets.info()"
   ]
  },
  {
   "cell_type": "markdown",
   "metadata": {},
   "source": [
    "The Hourly Rate column doesn't include nulls, so it's possible to calculate the z-test. The two hypotheses are shown below:"
   ]
  },
  {
   "cell_type": "code",
   "execution_count": 140,
   "metadata": {},
   "outputs": [
    {
     "name": "stdout",
     "output_type": "stream",
     "text": [
      "   - Z score is:  -9.567447887848152\n",
      "   - p value is:  1.0957711283886869e-21 \n",
      "\n"
     ]
    }
   ],
   "source": [
    "# Z-TEST\n",
    "# H0: u >= 35 $/hour\n",
    "# H1: u < 35 $/hour\n",
    "# alpha = 0.05\n",
    "hypothesis_mean_streets = 35   # 35 $/hou\n",
    "Z_score, p_value = ztest(salaries_streets['Hourly Rate'], value=hypothesis_mean_streets)\n",
    "print('   - Z score is: ', Z_score)\n",
    "print('   - p value is: ', p_value, '\\n')"
   ]
  },
  {
   "cell_type": "markdown",
   "metadata": {},
   "source": [
    "Since the p_value is less than alpha, the null hypothesis can be rejected. Therefore, you can conclude that there is significant statistical evidence to claim that the hourly wage in the 'Streets and San' department is significantly less than 35 dollars/hour. Such a negative z-score indicates that the observed mean is significantly below the mean expected under the null hypothesis."
   ]
  },
  {
   "cell_type": "markdown",
   "metadata": {},
   "source": [
    "# Challenge 3: To practice - Constructing Confidence Intervals\n",
    "\n",
    "While testing our hypothesis is a great way to gather empirical evidence for accepting or rejecting the hypothesis, another way to gather evidence is by creating a confidence interval. A confidence interval gives us information about the true mean of the population. So for a 95% confidence interval, we are 95% sure that the mean of the population is within the confidence interval. \n",
    ").\n",
    "\n",
    "To read more about confidence intervals, click [here](https://en.wikipedia.org/wiki/Confidence_interval).\n",
    "\n",
    "\n",
    "In the cell below, we will construct a 95% confidence interval for the mean hourly wage of all hourly workers. \n",
    "\n",
    "The confidence interval is computed in SciPy using the `t.interval` function. You can read more about this function [here](https://docs.scipy.org/doc/scipy-0.14.0/reference/generated/scipy.stats.t.html).\n",
    "\n",
    "To compute the confidence interval of the hourly wage, use the 0.95 for the confidence level, number of rows - 1 for degrees of freedom, the mean of the sample for the location parameter and the standard error for the scale. The standard error can be computed using [this](https://docs.scipy.org/doc/scipy/reference/generated/scipy.stats.sem.html) function in SciPy."
   ]
  },
  {
   "cell_type": "code",
   "execution_count": 93,
   "metadata": {},
   "outputs": [
    {
     "name": "stdout",
     "output_type": "stream",
     "text": [
      "95% confidence interval for the average hourly wage: (32.52345834488425, 33.05365708767623)\n"
     ]
    }
   ],
   "source": [
    "# Your code here:\n",
    "# Calculate the mean and standard error\n",
    "hourly_rates = salaries[salaries['Salary or Hourly'] == 'Hourly']['Hourly Rate']\n",
    "mean_hourly = hourly_rates.mean()\n",
    "std_error_hourly = stats.sem(hourly_rates)\n",
    "\n",
    "# Calculate the confidence interval\n",
    "confidence_interval = t.interval(confidence=0.95,          # 95% confidence level\n",
    "                                 df=len(hourly_rates)-1,   # Degrees of freedom\n",
    "                                 loc=mean_hourly,          # Mean\n",
    "                                 scale=std_error_hourly)   # Standard error\n",
    "\n",
    "# Print\n",
    "print(f'95% confidence interval for the average hourly wage: {confidence_interval}')"
   ]
  },
  {
   "cell_type": "code",
   "execution_count": 95,
   "metadata": {},
   "outputs": [
    {
     "data": {
      "text/plain": [
       "4        19.86\n",
       "6        46.10\n",
       "7        35.60\n",
       "10        2.65\n",
       "18       17.68\n",
       "         ...  \n",
       "33164    46.10\n",
       "33168    17.68\n",
       "33169    35.60\n",
       "33174    46.35\n",
       "33175    48.85\n",
       "Name: Hourly Rate, Length: 8022, dtype: float64"
      ]
     },
     "execution_count": 95,
     "metadata": {},
     "output_type": "execute_result"
    }
   ],
   "source": [
    "hourly_rates"
   ]
  },
  {
   "cell_type": "markdown",
   "metadata": {},
   "source": [
    "Now construct the 95% confidence interval for all salaried employeed in the police in the cell below."
   ]
  },
  {
   "cell_type": "code",
   "execution_count": 98,
   "metadata": {},
   "outputs": [
    {
     "name": "stdout",
     "output_type": "stream",
     "text": [
      "95% confidence interval for the average hourly wage: (32.52345834488425, 33.05365708767623)\n"
     ]
    }
   ],
   "source": [
    "# Your code here:\n",
    "salaries_police_df2 = salaries_police_df[salaries_police_df['Salary or Hourly'] == 'Salary']['Annual Salary']\n",
    "salaries_police_df2.head()\n",
    "\n",
    "# Calculate the mean and standard error\n",
    "salary_police = salaries[salaries['Salary or Hourly'] == 'Hourly']['Hourly Rate']\n",
    "mean_hourly2 = salary_police.mean()\n",
    "std_error_hourly2 = stats.sem(salary_police)\n",
    "\n",
    "# Calculate the confidence interval\n",
    "confidence_interval2 = t.interval(confidence=0.95,          # 95% confidence level\n",
    "                                  df=len(hourly_rates)-1,   # Degrees of freedom\n",
    "                                  loc=mean_hourly2,          # Mean\n",
    "                                  scale=std_error_hourly2)   # Standard error\n",
    "\n",
    "# Print\n",
    "print(f'95% confidence interval for the average hourly wage: {confidence_interval}')"
   ]
  },
  {
   "cell_type": "markdown",
   "metadata": {},
   "source": [
    "# Bonus Challenge - Hypothesis Tests of Proportions\n",
    "\n",
    "Another type of one sample test is a hypothesis test of proportions. In this test, we examine whether the proportion of a group in our sample is significantly different than a fraction. \n",
    "\n",
    "You can read more about one sample proportion tests [here](http://sphweb.bumc.bu.edu/otlt/MPH-Modules/BS/SAS/SAS6-CategoricalData/SAS6-CategoricalData2.html).\n",
    "\n",
    "In the cell below, use the `proportions_ztest` function from `statsmodels` to perform a hypothesis test that will determine whether the number of hourly workers in the City of Chicago is significantly different from 25% at the 95% confidence level."
   ]
  },
  {
   "cell_type": "markdown",
   "metadata": {},
   "source": [
    "Since there is no column where cities are indicated, I am going to perform a similar problem but selecting in this case the workers of the general services department:"
   ]
  },
  {
   "cell_type": "code",
   "execution_count": 112,
   "metadata": {},
   "outputs": [
    {
     "name": "stdout",
     "output_type": "stream",
     "text": [
      "Z statistic: 40.1389894104502\n",
      "P-value: 0.0\n",
      "We reject the null hypothesis: the proportion of hourly workers in Chicago is significantly different from 25%.\n"
     ]
    }
   ],
   "source": [
    "# Your code here:\n",
    "# Count the number of hourly workers and the total number in the city of Chicago\n",
    "hourly_general_services = salaries[(salaries['Department'] == 'GENERAL SERVICES')\\\n",
    "                                   & (salaries['Salary or Hourly'] == 'Hourly')]\n",
    "total_general_services = salaries[salaries['Department'] == 'GENERAL SERVICES']\n",
    "\n",
    "# Define the null hypothesis and perform the proportions test\n",
    "count = hourly_general_services.shape[0]  # Number of hourly workers in GENERAL SERVICES\n",
    "nobs = total_general_services.shape[0]   # Total number of workers in GENERAL SERVICES\n",
    "value = 0.25  # Hypothetical proportion under the null hypothesis (25%)\n",
    "\n",
    "# Perform the proportions test\n",
    "z_stat, p_value = proportions_ztest(count, nobs, value=value, alternative='two-sided')\n",
    "\n",
    "# Print the results\n",
    "print(f'Z statistic: {z_stat}')\n",
    "print(f'P-value: {p_value}')\n",
    "\n",
    "# Interpret the results\n",
    "alpha = 0.05\n",
    "if p_value < alpha:\n",
    "    print('We reject the null hypothesis: the proportion of hourly workers in the General Services deparment is\\\n",
    "    significantly different from 25%.')\n",
    "else:\n",
    "    print('There is not enough evidence to reject the null hypothesis: no significant difference in the proportion of\\ \n",
    "          hourly workers in the General Services deparment.')\n"
   ]
  },
  {
   "cell_type": "code",
   "execution_count": null,
   "metadata": {},
   "outputs": [],
   "source": []
  }
 ],
 "metadata": {
  "kernelspec": {
   "display_name": "Python (m1_env)",
   "language": "python",
   "name": "m1_env"
  },
  "language_info": {
   "codemirror_mode": {
    "name": "ipython",
    "version": 3
   },
   "file_extension": ".py",
   "mimetype": "text/x-python",
   "name": "python",
   "nbconvert_exporter": "python",
   "pygments_lexer": "ipython3",
   "version": "3.8.18"
  }
 },
 "nbformat": 4,
 "nbformat_minor": 2
}
