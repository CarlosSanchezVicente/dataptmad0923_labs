{
 "cells": [
  {
   "cell_type": "markdown",
   "metadata": {},
   "source": [
    "# Introduction to NumPy\n",
    "\n",
    "\n",
    "#### 1. Import NumPy under the name np."
   ]
  },
  {
   "cell_type": "code",
   "execution_count": 1,
   "metadata": {},
   "outputs": [],
   "source": [
    "# your code here\n",
    "import numpy as np"
   ]
  },
  {
   "cell_type": "markdown",
   "metadata": {},
   "source": [
    "#### 2. Print your NumPy version."
   ]
  },
  {
   "cell_type": "code",
   "execution_count": 2,
   "metadata": {},
   "outputs": [
    {
     "name": "stdout",
     "output_type": "stream",
     "text": [
      "1.25.2\n"
     ]
    }
   ],
   "source": [
    "# your code here\n",
    "print(np.__version__)"
   ]
  },
  {
   "cell_type": "markdown",
   "metadata": {},
   "source": [
    "#### 3. Generate a 2x3x5 3-dimensional array with random values. Assign the array to variable *a*.\n",
    "**Challenge**: there are at least three easy ways that use numpy to generate random arrays. How many ways can you find?"
   ]
  },
  {
   "cell_type": "code",
   "execution_count": 24,
   "metadata": {},
   "outputs": [],
   "source": [
    "a = np.random.randint(0,100,(2,3,5))"
   ]
  },
  {
   "cell_type": "code",
   "execution_count": 27,
   "metadata": {},
   "outputs": [],
   "source": [
    "# Method 2\n",
    "a = np.random.rand(2,3,5)"
   ]
  },
  {
   "cell_type": "code",
   "execution_count": 79,
   "metadata": {},
   "outputs": [],
   "source": [
    "# Method 3\n",
    "a = np.random.choice(np.random.randint(0,100), size=(2,3,5))"
   ]
  },
  {
   "cell_type": "markdown",
   "metadata": {},
   "source": [
    "#### 4. Print *a*.\n"
   ]
  },
  {
   "cell_type": "code",
   "execution_count": 80,
   "metadata": {},
   "outputs": [
    {
     "name": "stdout",
     "output_type": "stream",
     "text": [
      "[[[45 27  3  5 34]\n",
      "  [42 28 33  3 18]\n",
      "  [17 18 14 48  6]]\n",
      "\n",
      " [[ 4  5 21 50  1]\n",
      "  [31 41 12 46 32]\n",
      "  [40 39 10 28 36]]]\n"
     ]
    }
   ],
   "source": [
    "# your code here\n",
    "print(a)"
   ]
  },
  {
   "cell_type": "markdown",
   "metadata": {},
   "source": [
    "#### 5. Create a 5x2x3 3-dimensional array with all values equaling 1. Assign the array to variable *b*."
   ]
  },
  {
   "cell_type": "code",
   "execution_count": 81,
   "metadata": {},
   "outputs": [],
   "source": [
    "# your code here\n",
    "# NOTE: I think the dimension of the matrix \"b\" is 5x3x2 because of what is written in the following statements. \n",
    "b = np.random.randint(1,2,(5,3,2))"
   ]
  },
  {
   "cell_type": "markdown",
   "metadata": {},
   "source": [
    "#### 6. Print *b*.\n"
   ]
  },
  {
   "cell_type": "code",
   "execution_count": 82,
   "metadata": {},
   "outputs": [
    {
     "name": "stdout",
     "output_type": "stream",
     "text": [
      "[[[1 1]\n",
      "  [1 1]\n",
      "  [1 1]]\n",
      "\n",
      " [[1 1]\n",
      "  [1 1]\n",
      "  [1 1]]\n",
      "\n",
      " [[1 1]\n",
      "  [1 1]\n",
      "  [1 1]]\n",
      "\n",
      " [[1 1]\n",
      "  [1 1]\n",
      "  [1 1]]\n",
      "\n",
      " [[1 1]\n",
      "  [1 1]\n",
      "  [1 1]]]\n"
     ]
    }
   ],
   "source": [
    "# your code here\n",
    "print(b)"
   ]
  },
  {
   "cell_type": "markdown",
   "metadata": {},
   "source": [
    "#### 7. Do *a* and *b* have the same size? How do you prove that in Python code?"
   ]
  },
  {
   "cell_type": "code",
   "execution_count": 83,
   "metadata": {},
   "outputs": [
    {
     "name": "stdout",
     "output_type": "stream",
     "text": [
      "Size a: ( 2 , 3 , 5 )\n",
      "Size b: ( 5 , 3 , 2 )\n"
     ]
    }
   ],
   "source": [
    "# your code here\n",
    "\n",
    "print('Size a: (', len(a), ',', len(a[0]), ',', len(a[0,0]), ')')\n",
    "print('Size b: (', len(b), ',', len(b[0]), ',', len(b[0,0]), ')')"
   ]
  },
  {
   "cell_type": "markdown",
   "metadata": {},
   "source": [
    "#### 8. Are you able to add *a* and *b*? Why or why not?\n"
   ]
  },
  {
   "cell_type": "code",
   "execution_count": 84,
   "metadata": {},
   "outputs": [
    {
     "ename": "ValueError",
     "evalue": "operands could not be broadcast together with shapes (2,3,5) (5,3,2) ",
     "output_type": "error",
     "traceback": [
      "\u001b[1;31m---------------------------------------------------------------------------\u001b[0m",
      "\u001b[1;31mValueError\u001b[0m                                Traceback (most recent call last)",
      "Cell \u001b[1;32mIn[84], line 2\u001b[0m\n\u001b[0;32m      1\u001b[0m \u001b[38;5;66;03m# your answer here\u001b[39;00m\n\u001b[1;32m----> 2\u001b[0m c \u001b[38;5;241m=\u001b[39m \u001b[43mnp\u001b[49m\u001b[38;5;241;43m.\u001b[39;49m\u001b[43madd\u001b[49m\u001b[43m(\u001b[49m\u001b[43ma\u001b[49m\u001b[43m,\u001b[49m\u001b[43m \u001b[49m\u001b[43mb\u001b[49m\u001b[43m)\u001b[49m\n",
      "\u001b[1;31mValueError\u001b[0m: operands could not be broadcast together with shapes (2,3,5) (5,3,2) "
     ]
    }
   ],
   "source": [
    "# your answer here\n",
    "c = np.add(a, b)   # It is imposible to add both matrix because the shapes are different."
   ]
  },
  {
   "cell_type": "markdown",
   "metadata": {},
   "source": [
    "#### 9. Transpose *b* so that it has the same structure of *a* (i.e. become a 2x3x5 array). Assign the transposed array to variable *c*."
   ]
  },
  {
   "cell_type": "code",
   "execution_count": 85,
   "metadata": {},
   "outputs": [
    {
     "data": {
      "text/plain": [
       "(2, 3, 5)"
      ]
     },
     "execution_count": 85,
     "metadata": {},
     "output_type": "execute_result"
    }
   ],
   "source": [
    "# your code here\n",
    "c = b.transpose()\n",
    "c.shape"
   ]
  },
  {
   "cell_type": "markdown",
   "metadata": {},
   "source": [
    "#### 10. Try to add *a* and *c*. Now it should work. Assign the sum to variable *d*. But why does it work now?"
   ]
  },
  {
   "cell_type": "code",
   "execution_count": 86,
   "metadata": {},
   "outputs": [
    {
     "name": "stdout",
     "output_type": "stream",
     "text": [
      "Shape a:  (2, 3, 5)\n",
      "Shape c:  (2, 3, 5)\n"
     ]
    }
   ],
   "source": [
    "# your code/answer here\n",
    "print('Shape a: ', a.shape)\n",
    "print('Shape c: ', c.shape)\n",
    "\n",
    "d = np.add(a, c)   # It is posible to add both matrix because the shapes are equal."
   ]
  },
  {
   "cell_type": "markdown",
   "metadata": {},
   "source": [
    "#### 11. Print *a* and *d*. Notice the difference and relation of the two array in terms of the values? Explain."
   ]
  },
  {
   "cell_type": "code",
   "execution_count": 91,
   "metadata": {},
   "outputs": [
    {
     "name": "stdout",
     "output_type": "stream",
     "text": [
      "Matrix a:  [[[45 27  3  5 34]\n",
      "  [42 28 33  3 18]\n",
      "  [17 18 14 48  6]]\n",
      "\n",
      " [[ 4  5 21 50  1]\n",
      "  [31 41 12 46 32]\n",
      "  [40 39 10 28 36]]]\n",
      "\n",
      "Matrix d:  [[[46 28  4  6 35]\n",
      "  [43 29 34  4 19]\n",
      "  [18 19 15 49  7]]\n",
      "\n",
      " [[ 5  6 22 51  2]\n",
      "  [32 42 13 47 33]\n",
      "  [41 40 11 29 37]]]\n"
     ]
    }
   ],
   "source": [
    "# your code/answer here\n",
    "print('Matrix a: ', a)\n",
    "print('\\nMatrix d: ', d)\n",
    "\n",
    "# The different between both matrix is that matrix \"d\" has the same dimension that matrix \"a\". But each element of \"d\" is \n",
    "# the sum of each of the elements between \"a\" and \"c\"."
   ]
  },
  {
   "cell_type": "markdown",
   "metadata": {},
   "source": [
    "#### 12. Multiply *a* and *c*. Assign the result to *e*."
   ]
  },
  {
   "cell_type": "code",
   "execution_count": 93,
   "metadata": {},
   "outputs": [
    {
     "name": "stdout",
     "output_type": "stream",
     "text": [
      "[[[45 27  3  5 34]\n",
      "  [42 28 33  3 18]\n",
      "  [17 18 14 48  6]]\n",
      "\n",
      " [[ 4  5 21 50  1]\n",
      "  [31 41 12 46 32]\n",
      "  [40 39 10 28 36]]]\n"
     ]
    }
   ],
   "source": [
    "# your code here\n",
    "e = np.multiply(a,c)\n",
    "print(e)"
   ]
  },
  {
   "cell_type": "markdown",
   "metadata": {},
   "source": [
    "#### 13. Does *e* equal to *a*? Why or why not?\n"
   ]
  },
  {
   "cell_type": "code",
   "execution_count": null,
   "metadata": {},
   "outputs": [],
   "source": [
    "# your code/answer here\n",
    "# Yes, both are the same because each elemento of \"a\" is multiply by 1 (all of the elements in c are 1)."
   ]
  },
  {
   "cell_type": "markdown",
   "metadata": {},
   "source": [
    "#### 14. Identify the max, min, and mean values in *d*. Assign those values to variables *d_max*, *d_min* and *d_mean*."
   ]
  },
  {
   "cell_type": "code",
   "execution_count": 94,
   "metadata": {},
   "outputs": [
    {
     "name": "stdout",
     "output_type": "stream",
     "text": [
      "51 2 25.566666666666666\n"
     ]
    }
   ],
   "source": [
    "# your code here\n",
    "d_max = np.max(d)\n",
    "d_min = np.min(d)\n",
    "d_mean = np.mean(d)\n",
    "print(d_max, d_min, d_mean)"
   ]
  },
  {
   "cell_type": "markdown",
   "metadata": {},
   "source": [
    "#### 15. Now we want to label the values in *d*. First create an empty array *f* with the same shape (i.e. 2x3x5) as *d* using `np.empty`.\n"
   ]
  },
  {
   "cell_type": "code",
   "execution_count": 131,
   "metadata": {},
   "outputs": [
    {
     "name": "stdout",
     "output_type": "stream",
     "text": [
      "[[[1.99772903 1.27490903 1.21149975 1.64946326 1.0024228 ]\n",
      "  [1.86493572 1.88211302 1.20769238 1.05395496 1.52286139]\n",
      "  [1.70762626 1.59759552 1.3637148  1.37429214 1.618805  ]]\n",
      "\n",
      " [[1.95376741 1.56081114 1.86659744 1.91058093 1.57803102]\n",
      "  [1.77889033 1.93487753 1.10618226 1.10706165 1.80972822]\n",
      "  [1.0309781  1.61083656 1.86285616 1.99407058 1.73816856]]]\n"
     ]
    }
   ],
   "source": [
    "# your code here\n",
    "f = np.empty(d.shape)\n",
    "print(f)"
   ]
  },
  {
   "cell_type": "markdown",
   "metadata": {},
   "source": [
    "#### 16. Populate the values in *f*. \n",
    "\n",
    "For each value in *d*, if it's larger than *d_min* but smaller than *d_mean*, assign 25 to the corresponding value in *f*. If a value in *d* is larger than *d_mean* but smaller than *d_max*, assign 75 to the corresponding value in *f*. If a value equals to *d_mean*, assign 50 to the corresponding value in *f*. Assign 0 to the corresponding value(s) in *f* for *d_min* in *d*. Assign 100 to the corresponding value(s) in *f* for *d_max* in *d*. In the end, f should have only the following values: 0, 25, 50, 75, and 100.\n",
    "\n",
    "**Note**: you don't have to use Numpy in this question."
   ]
  },
  {
   "cell_type": "code",
   "execution_count": 193,
   "metadata": {},
   "outputs": [],
   "source": [
    "# your code here\n",
    "\n",
    "def populate(empty_array, entry_array):\n",
    "    # Calculate max, min and mean\n",
    "    array_max = np.max(entry_array)\n",
    "    #print('Max: ', array_max)\n",
    "    array_min = np.min(entry_array)\n",
    "    #print('Min: ', array_min)\n",
    "    array_mean = np.mean(entry_array)\n",
    "    #print('Mean: ', array_mean)\n",
    "    \n",
    "    # Obtain populate\n",
    "    emp_list = empty_array.tolist()   # To operate without Numpy library, I convert the numpy matrix to python list\n",
    "\n",
    "    for x in list(range( len(entry_array) )):   # The matrix is traversed along the x-axis\n",
    "    \n",
    "        for y in list(range( len(entry_array[0]) )):   # The matrix is traversed along the y-axis\n",
    "        \n",
    "            for z in list(range( len(entry_array[0,0]) )):   # The matrix is traversed along the z-axis\n",
    "            \n",
    "                value = entry_array[x,y,z]   # Each element value is store in the \"value\" variable\n",
    "            \n",
    "                if value >= array_max:   # If value is higher than d_max, store 100\n",
    "                    emp_list[x][y][z] = float(100)\n",
    "                    #print('Value is: ', value, ' so is 100')\n",
    "                \n",
    "                elif array_max > value > array_mean:   # If value is smaller than d_max and higher than d_mean, store 75\n",
    "                    emp_list[x][y][z] = float(75)\n",
    "                    #print('Value is: ', value, ' so is 75')\n",
    "                \n",
    "                elif value == array_mean:   # If value is equal to f_mean, store 50\n",
    "                    emp_list[x][y][z] = float(50)\n",
    "                    #print('Value is: ', value, ' so is 50')\n",
    "                \n",
    "                elif array_mean > value > array_min:   # If value is smaller than d_mean and higher than d_min, store 25 \n",
    "                    emp_list[x][y][z] = float(25)\n",
    "                    #print('Value is: ', value, ' so is 25')\n",
    "                \n",
    "                elif value == array_min:   # If value is smaller than d_min, store 0\n",
    "                    emp_list[x][y][z] = float(0)\n",
    "                    #print('Value is: ', value, ' so is 0')\n",
    "    return np.array(emp_list)\n",
    "            \n",
    "#f2 = populate(f,d)\n",
    "#print(f2)"
   ]
  },
  {
   "cell_type": "markdown",
   "metadata": {},
   "source": [
    "#### 17. Print *d* and *f*. Do you have your expected *f*?\n",
    "For instance, if your *d* is:\n",
    "```python\n",
    "[[[1.85836099, 1.67064465, 1.62576044, 1.40243961, 1.88454931],\n",
    "[1.75354326, 1.69403643, 1.36729252, 1.61415071, 1.12104981],\n",
    "[1.72201435, 1.1862918 , 1.87078449, 1.7726778 , 1.88180042]],\n",
    "[[1.44747908, 1.31673383, 1.02000951, 1.52218947, 1.97066381],\n",
    "[1.79129243, 1.74983003, 1.96028037, 1.85166831, 1.65450881],\n",
    "[1.18068344, 1.9587381 , 1.00656599, 1.93402165, 1.73514584]]]\n",
    "```\n",
    "Your *f* should be:\n",
    "```python\n",
    "[[[ 75.,  75.,  75.,  25.,  75.],\n",
    "[ 75.,  75.,  25.,  25.,  25.],\n",
    "[ 75.,  25.,  75.,  75.,  75.]],\n",
    "[[ 25.,  25.,  25.,  25., 100.],\n",
    "[ 75.,  75.,  75.,  75.,  75.],\n",
    "[ 25.,  75.,   0.,  75.,  75.]]]\n",
    "```"
   ]
  },
  {
   "cell_type": "code",
   "execution_count": 194,
   "metadata": {},
   "outputs": [
    {
     "name": "stdout",
     "output_type": "stream",
     "text": [
      "[[[ 75.  75.  75.  25.  75.]\n",
      "  [ 75.  75.  25.  25.  25.]\n",
      "  [ 75.  25.  75.  75.  75.]]\n",
      "\n",
      " [[ 25.  25.  25.  25. 100.]\n",
      "  [ 75.  75.  75.  75.  75.]\n",
      "  [ 25.  75.   0.  75.  75.]]]\n"
     ]
    }
   ],
   "source": [
    "# your code here\n",
    "d2_list = [[[1.85836099, 1.67064465, 1.62576044, 1.40243961, 1.88454931],\n",
    "[1.75354326, 1.69403643, 1.36729252, 1.61415071, 1.12104981],\n",
    "[1.72201435, 1.1862918 , 1.87078449, 1.7726778 , 1.88180042]],\n",
    "[[1.44747908, 1.31673383, 1.02000951, 1.52218947, 1.97066381],\n",
    "[1.79129243, 1.74983003, 1.96028037, 1.85166831, 1.65450881],\n",
    "[1.18068344, 1.9587381 , 1.00656599, 1.93402165, 1.73514584]]]\n",
    "\n",
    "d2 = np.array(d2_list)\n",
    "\n",
    "f2 = populate(f,d2)\n",
    "print(f2)"
   ]
  },
  {
   "cell_type": "markdown",
   "metadata": {},
   "source": [
    "#### 18. Bonus question: instead of using numbers (i.e. 0, 25, 50, 75, and 100), use string values  (\"A\", \"B\", \"C\", \"D\", and \"E\") to label the array elements. For the example above, the expected result is:\n",
    "\n",
    "```python\n",
    "[[[ 'D',  'D',  'D',  'B',  'D'],\n",
    "[ 'D',  'D',  'B',  'B',  'B'],\n",
    "[ 'D',  'B',  'D',  'D',  'D']],\n",
    "[[ 'B',  'B',  'B',  'B',  'E'],\n",
    "[ 'D',  'D',  'D',  'D',  'D'],\n",
    "[ 'B',  'D',   'A',  'D', 'D']]]\n",
    "```\n",
    "**Note**: you don't have to use Numpy in this question."
   ]
  },
  {
   "cell_type": "code",
   "execution_count": 195,
   "metadata": {},
   "outputs": [],
   "source": [
    "# your code here\n",
    "\n",
    "def populate(empty_array, entry_array):\n",
    "    \n",
    "    # Calculate max, min and mean\n",
    "    array_max = np.max(entry_array)\n",
    "    #print('Max: ', array_max)\n",
    "    array_min = np.min(entry_array)\n",
    "    #print('Min: ', array_min)\n",
    "    array_mean = np.mean(entry_array)\n",
    "    #print('Mean: ', array_mean)\n",
    "    \n",
    "    # Obtain populate\n",
    "    empty_array.astype(str)\n",
    "    emp_list = empty_array.tolist()   # To operate without Numpy library, I convert the numpy matrix to python list\n",
    "\n",
    "    for x in list(range( len(entry_array) )):   # The matrix is traversed along the x-axis\n",
    "    \n",
    "        for y in list(range( len(entry_array[0]) )):   # The matrix is traversed along the y-axis\n",
    "        \n",
    "            for z in list(range( len(entry_array[0,0]) )):   # The matrix is traversed along the z-axis\n",
    "            \n",
    "                value = entry_array[x,y,z]   # Each element value is store in the \"value\" variable\n",
    "            \n",
    "                if value >= array_max:   # If value is higher than d_max, store 100\n",
    "                    emp_list[x][y][z] = 'E'\n",
    "                    #print('Value is: ', value, ' so is 100')\n",
    "                \n",
    "                elif array_max > value > array_mean:   # If value is smaller than d_max and higher than d_mean, store 75\n",
    "                    emp_list[x][y][z] = 'D'\n",
    "                    #print('Value is: ', value, ' so is 75')\n",
    "                \n",
    "                elif value == array_mean:   # If value is equal to f_mean, store 50\n",
    "                    emp_list[x][y][z] = 'C'\n",
    "                    #print('Value is: ', value, ' so is 50')\n",
    "                \n",
    "                elif array_mean > value > array_min:   # If value is smaller than d_mean and higher than d_min, store 25 \n",
    "                    emp_list[x][y][z] = 'B'\n",
    "                    #print('Value is: ', value, ' so is 25')\n",
    "                \n",
    "                elif value == array_min:   # If value is smaller than d_min, store 0\n",
    "                    emp_list[x][y][z] = 'A'\n",
    "                    #print('Value is: ', value, ' so is 0')\n",
    "    return np.array(emp_list)"
   ]
  },
  {
   "cell_type": "code",
   "execution_count": 196,
   "metadata": {},
   "outputs": [
    {
     "name": "stdout",
     "output_type": "stream",
     "text": [
      "[[['D' 'D' 'D' 'B' 'D']\n",
      "  ['D' 'D' 'B' 'B' 'B']\n",
      "  ['D' 'B' 'D' 'D' 'D']]\n",
      "\n",
      " [['B' 'B' 'B' 'B' 'E']\n",
      "  ['D' 'D' 'D' 'D' 'D']\n",
      "  ['B' 'D' 'A' 'D' 'D']]]\n"
     ]
    }
   ],
   "source": [
    "f2 = populate(f,d2)\n",
    "print(f2)"
   ]
  },
  {
   "cell_type": "code",
   "execution_count": null,
   "metadata": {},
   "outputs": [],
   "source": []
  }
 ],
 "metadata": {
  "kernelspec": {
   "display_name": "Python 3 (ipykernel)",
   "language": "python",
   "name": "python3"
  },
  "language_info": {
   "codemirror_mode": {
    "name": "ipython",
    "version": 3
   },
   "file_extension": ".py",
   "mimetype": "text/x-python",
   "name": "python",
   "nbconvert_exporter": "python",
   "pygments_lexer": "ipython3",
   "version": "3.10.13"
  }
 },
 "nbformat": 4,
 "nbformat_minor": 2
}
