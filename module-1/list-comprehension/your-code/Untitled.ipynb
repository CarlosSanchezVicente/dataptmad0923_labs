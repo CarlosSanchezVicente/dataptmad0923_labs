{
 "cells": [
  {
   "cell_type": "code",
   "execution_count": 4,
   "id": "8097be30",
   "metadata": {},
   "outputs": [
    {
     "ename": "AttributeError",
     "evalue": "'int' object has no attribute 'abs'",
     "output_type": "error",
     "traceback": [
      "\u001b[1;31m---------------------------------------------------------------------------\u001b[0m",
      "\u001b[1;31mAttributeError\u001b[0m                            Traceback (most recent call last)",
      "Cell \u001b[1;32mIn[4], line 13\u001b[0m\n\u001b[0;32m      9\u001b[0m             lst_invert\u001b[38;5;241m.\u001b[39mappend(number)\n\u001b[0;32m     11\u001b[0m     \u001b[38;5;28;01mreturn\u001b[39;00m lst_invert\n\u001b[1;32m---> 13\u001b[0m \u001b[43minvert\u001b[49m\u001b[43m(\u001b[49m\u001b[43m[\u001b[49m\u001b[38;5;241;43m1\u001b[39;49m\u001b[43m,\u001b[49m\u001b[38;5;241;43m2\u001b[39;49m\u001b[43m,\u001b[49m\u001b[38;5;241;43m3\u001b[39;49m\u001b[43m,\u001b[49m\u001b[38;5;241;43m4\u001b[39;49m\u001b[43m,\u001b[49m\u001b[38;5;241;43m5\u001b[39;49m\u001b[43m]\u001b[49m\u001b[43m)\u001b[49m\n",
      "Cell \u001b[1;32mIn[4], line 8\u001b[0m, in \u001b[0;36minvert\u001b[1;34m(lst)\u001b[0m\n\u001b[0;32m      6\u001b[0m         lst_invert\u001b[38;5;241m.\u001b[39mappend(number\u001b[38;5;241m*\u001b[39m\u001b[38;5;241m-\u001b[39m\u001b[38;5;241m1\u001b[39m)\n\u001b[0;32m      7\u001b[0m     \u001b[38;5;28;01melif\u001b[39;00m number \u001b[38;5;241m>\u001b[39m \u001b[38;5;241m0\u001b[39m:\n\u001b[1;32m----> 8\u001b[0m         \u001b[43mnumber\u001b[49m\u001b[38;5;241;43m.\u001b[39;49m\u001b[43mabs\u001b[49m(number)\n\u001b[0;32m      9\u001b[0m         lst_invert\u001b[38;5;241m.\u001b[39mappend(number)\n\u001b[0;32m     11\u001b[0m \u001b[38;5;28;01mreturn\u001b[39;00m lst_invert\n",
      "\u001b[1;31mAttributeError\u001b[0m: 'int' object has no attribute 'abs'"
     ]
    }
   ],
   "source": [
    "def invert(lst):\n",
    "    lst_invert = []\n",
    "    \n",
    "    for number in lst:\n",
    "        if number < 0:\n",
    "            lst_invert.append(number*-1)\n",
    "        elif number > 0:\n",
    "            number.abs(number)\n",
    "            lst_invert.append(number)\n",
    "    \n",
    "    return lst_invert\n",
    "\n",
    "invert([1,2,3,4,5])"
   ]
  },
  {
   "cell_type": "code",
   "execution_count": null,
   "id": "b0059f74",
   "metadata": {},
   "outputs": [],
   "source": []
  }
 ],
 "metadata": {
  "kernelspec": {
   "display_name": "Python (jupyter_env)",
   "language": "python",
   "name": "jupyter_env"
  },
  "language_info": {
   "codemirror_mode": {
    "name": "ipython",
    "version": 3
   },
   "file_extension": ".py",
   "mimetype": "text/x-python",
   "name": "python",
   "nbconvert_exporter": "python",
   "pygments_lexer": "ipython3",
   "version": "3.10.13"
  }
 },
 "nbformat": 4,
 "nbformat_minor": 5
}
