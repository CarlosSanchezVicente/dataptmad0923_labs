{
 "cells": [
  {
   "cell_type": "markdown",
   "metadata": {},
   "source": [
    "## Challenge 1: Tuples\n",
    "\n",
    "#### Do you know you can create tuples with only one element?\n",
    "\n",
    "**In the cell below, define a variable `tup` with a single element `\"I\"`.**\n",
    "\n",
    "*Hint: you need to add a comma (`,`) after the single element.*"
   ]
  },
  {
   "cell_type": "code",
   "execution_count": 12,
   "metadata": {},
   "outputs": [
    {
     "name": "stdout",
     "output_type": "stream",
     "text": [
      "('I',)\n"
     ]
    }
   ],
   "source": [
    "# Your code here\n",
    "tup = ('I',)\n",
    "print(tup)"
   ]
  },
  {
   "cell_type": "markdown",
   "metadata": {},
   "source": [
    "#### Print the type of `tup`. \n",
    "\n",
    "Make sure its type is correct (i.e. *tuple* instead of *str*)."
   ]
  },
  {
   "cell_type": "code",
   "execution_count": 6,
   "metadata": {},
   "outputs": [
    {
     "data": {
      "text/plain": [
       "tuple"
      ]
     },
     "execution_count": 6,
     "metadata": {},
     "output_type": "execute_result"
    }
   ],
   "source": [
    "# Your code here\n",
    "type(tup)"
   ]
  },
  {
   "cell_type": "markdown",
   "metadata": {},
   "source": [
    "#### Now try to append the following elements to `tup`. \n",
    "\n",
    "Are you able to do it? Explain.\n",
    "\n",
    "```\n",
    "\"r\", \"o\", \"n\", \"h\", \"a\", \"c\", \"k',\n",
    "```"
   ]
  },
  {
   "cell_type": "code",
   "execution_count": 34,
   "metadata": {},
   "outputs": [
    {
     "name": "stdout",
     "output_type": "stream",
     "text": [
      "Way 2 result:  ('I', 'r', 'o', 'n', 'h', 'a', 'c', 'k')\n",
      "Way 3 result:  ('I', ['r', 'o', 'n', 'h', 'a', 'c', 'k'])\n",
      "Way 3 result with loop:  ('I', 'r', 'o', 'n', 'h', 'a', 'c', 'k')\n"
     ]
    },
    {
     "data": {
      "text/plain": [
       "tuple"
      ]
     },
     "execution_count": 34,
     "metadata": {},
     "output_type": "execute_result"
    }
   ],
   "source": [
    "# Your code here\n",
    "# 1 - Append to tupla\n",
    "#tup.append(\"r\", \"o\", \"n\", \"h\", \"a\", \"c\", \"k\",)       \n",
    "\"\"\"\n",
    "Your explanation here\n",
    "The tuples are immutables, so it's imposible to modify their contents after their definition.\n",
    "\"\"\"\n",
    "\n",
    "# 2 - Add tupla to a tupla\n",
    "tup = ('I',)\n",
    "tup2append = (\"r\", \"o\", \"n\", \"h\", \"a\", \"c\", \"k\",)\n",
    "tup += tup2append\n",
    "print(\"Way 2 result: \",tup)\n",
    "type(tup)\n",
    "\"\"\"\n",
    "Your explanation here\n",
    "But, it's possible to add a tuple to another tuple. If I create new tuple with the content to add, it's possible to add to \n",
    "the existintg tuple.\n",
    "\"\"\"\n",
    "\n",
    "# 3 - Tuple->list->tuple\n",
    "tup = ('I',)\n",
    "tup_list = list(tup)\n",
    "tup_list.append([\"r\", \"o\", \"n\", \"h\", \"a\", \"c\", \"k\"])\n",
    "tup = tuple(tup_list)\n",
    "print(\"Way 3 result: \",tup)\n",
    "type(tup)\n",
    "\"\"\"\n",
    "Your explanation here\n",
    "Another way to add new items to tuple could be convert the tupla into a list, add new item and after that convert the list \n",
    "into a tuple. The problem with that way is that I create a list inside de tuple, so to solve this problem it's necesary \n",
    "create a loop and add element by element.\n",
    "\"\"\"\n",
    "tup = ('I',)\n",
    "tup_list = list(tup)   #tup_list is the tuple converted to list\n",
    "add_list = [\"r\", \"o\", \"n\", \"h\", \"a\", \"c\", \"k\"]   #add_list is the list to add to the tuple\n",
    "for element in add_list:\n",
    "    tup_list.append(element)\n",
    "tup = tuple(tup_list)\n",
    "print(\"Way 3 result with loop: \",tup)\n",
    "type(tup)"
   ]
  },
  {
   "cell_type": "markdown",
   "metadata": {},
   "source": [
    "#### How about re-assign a new value to an existing tuple?\n",
    "\n",
    "Re-assign the following elements to `tup`. Are you able to do it? Explain.\n",
    "\n",
    "```\n",
    "\"I\", \"r\", \"o\", \"n\", \"h\", \"a\", \"c\", \"k\"\n",
    "```"
   ]
  },
  {
   "cell_type": "code",
   "execution_count": 35,
   "metadata": {},
   "outputs": [
    {
     "name": "stdout",
     "output_type": "stream",
     "text": [
      "('I',)\n",
      "('I', 'r', 'o', 'n', 'h', 'a', 'c', 'k')\n"
     ]
    },
    {
     "data": {
      "text/plain": [
       "'\\nYour explanation here\\nIn this case, I think something similiar to the previous exercise is happening, because of the context  \\n'"
      ]
     },
     "execution_count": 35,
     "metadata": {},
     "output_type": "execute_result"
    }
   ],
   "source": [
    "# Your code here\n",
    "tup = (\"I\",)\n",
    "print(tup)\n",
    "type(tup)\n",
    "tup = (\"I\", \"r\", \"o\", \"n\", \"h\", \"a\", \"c\", \"k\")\n",
    "print(tup)\n",
    "type(tup)\n",
    "\n",
    "\"\"\"\n",
    "Your explanation here\n",
    "In this case, I think something similiar to the previous exercise is happening. I think that when I recreate the tuple with\n",
    "the same name, probably jupyter notebook is deleting the previous \"tup\" and recreates it with other values. \n",
    "In the above exercice, \"tup\" is converted to list, and after that, list is converted back to tupla. In this process,\n",
    "I think the behabior is the same, because I'm trying to store diferent information in the same object.\n",
    "\"\"\""
   ]
  },
  {
   "cell_type": "markdown",
   "metadata": {},
   "source": [
    "#### Split `tup` into `tup1` and `tup2` with 4 elements in each. \n",
    "\n",
    "`tup1` should be `(\"I\", \"r\", \"o\", \"n\")` and `tup2` should be `(\"h\", \"a\", \"c\", \"k\")`.\n",
    "\n",
    "*Hint: use positive index numbers for `tup1` assignment and use negative index numbers for `tup2` assignment. Positive index numbers count from the beginning whereas negative index numbers count from the end of the sequence.*\n",
    "\n",
    "Also print `tup1` and `tup2`."
   ]
  },
  {
   "cell_type": "code",
   "execution_count": 84,
   "metadata": {},
   "outputs": [
    {
     "name": "stdout",
     "output_type": "stream",
     "text": [
      "First half of tuple:  ('I', 'r', 'o', 'n')\n",
      "Second half of tuple:  ('h', 'a', 'c', 'k')\n"
     ]
    }
   ],
   "source": [
    "# Your code here\n",
    "tup = (\"I\", \"r\", \"o\", \"n\", \"h\", \"a\", \"c\", \"k\")\n",
    "tup1 = ()   #Reset tup1 value\n",
    "tup2 = ()   #Reset tup2 value\n",
    "half_len = int(len(tup)/2)   #Half the tuple length\n",
    "\n",
    "i=0   #Index to go through the tuple from the beginning\n",
    "i2=half_len   #Indes to go through the tuple from the end\n",
    "for element in tup[:half_len]:\n",
    "    tup1 += tuple(tup[i])\n",
    "    tup2 += tuple(tup[-i2])\n",
    "    i+=1\n",
    "    i2-=1\n",
    "\n",
    "print(\"First half of tuple: \",tup1)\n",
    "print(\"Second half of tuple: \",tup2)"
   ]
  },
  {
   "cell_type": "markdown",
   "metadata": {},
   "source": [
    "#### Add `tup1` and `tup2` into `tup3` using the `+` operator.\n",
    "\n",
    "Then print `tup3` and check if `tup3` equals to `tup`."
   ]
  },
  {
   "cell_type": "code",
   "execution_count": 92,
   "metadata": {},
   "outputs": [
    {
     "name": "stdout",
     "output_type": "stream",
     "text": [
      "('I', 'r', 'o', 'n', 'h', 'a', 'c', 'k')\n"
     ]
    },
    {
     "data": {
      "text/plain": [
       "tuple"
      ]
     },
     "execution_count": 92,
     "metadata": {},
     "output_type": "execute_result"
    }
   ],
   "source": [
    "# Your code here\n",
    "tup3 = tup1+tup2\n",
    "print(tup3)\n",
    "type(tup3)"
   ]
  },
  {
   "cell_type": "markdown",
   "metadata": {},
   "source": [
    "#### Count the number of elements in `tup1` and `tup2`. Then add the two counts together and check if the sum is the same as the number of elements in `tup3`."
   ]
  },
  {
   "cell_type": "code",
   "execution_count": 95,
   "metadata": {},
   "outputs": [
    {
     "name": "stdout",
     "output_type": "stream",
     "text": [
      "No, lengths are diferent. Tup1 length is: 4  and tup3 length is: 8\n"
     ]
    }
   ],
   "source": [
    "# Your code here\n",
    "if len(tup1)==len(tup3):\n",
    "    print(\"Yes, length is the same for both tuples.\")\n",
    "else:\n",
    "    print(\"No, lengths are diferent. Tup1 length is:\",len(tup1), \" and tup3 length is:\",len(tup3))"
   ]
  },
  {
   "cell_type": "markdown",
   "metadata": {},
   "source": [
    "#### What is the index number of `\"h\"` in `tup3`?"
   ]
  },
  {
   "cell_type": "code",
   "execution_count": 97,
   "metadata": {},
   "outputs": [
    {
     "name": "stdout",
     "output_type": "stream",
     "text": [
      "Index number of h is:  4\n"
     ]
    }
   ],
   "source": [
    "# Your code here\n",
    "print(\"Index number of h is: \",tup3.index(\"h\"))"
   ]
  },
  {
   "cell_type": "markdown",
   "metadata": {},
   "source": [
    "#### Now, use a FOR loop to check whether each letter in the following list is present in `tup3`:\n",
    "\n",
    "```\n",
    "letters = [\"a\", \"b\", \"c\", \"d\", \"e\"]\n",
    "```\n",
    "\n",
    "For each letter you check, print `True` if it is present in `tup3` otherwise print `False`.\n",
    "\n",
    "*Hint: you only need to loop `letters`. You don't need to loop `tup3` because there is a Python operator `in` you can use. See [reference](https://stackoverflow.com/questions/17920147/how-to-check-if-a-tuple-contains-an-element-in-python).*"
   ]
  },
  {
   "cell_type": "code",
   "execution_count": 111,
   "metadata": {},
   "outputs": [
    {
     "name": "stdout",
     "output_type": "stream",
     "text": [
      "True\n",
      "Fase\n",
      "True\n",
      "Fase\n",
      "Fase\n"
     ]
    }
   ],
   "source": [
    "# Your code here\n",
    "letters = [\"a\", \"b\", \"c\", \"d\", \"e\"]\n",
    "result = []   #\"result\" stores the result of the comparation \n",
    "for element in letters:\n",
    "    if element in tup3:\n",
    "        result += [True]\n",
    "        print(\"True\")\n",
    "    else:\n",
    "        result += [False]\n",
    "        print(\"False\")"
   ]
  },
  {
   "cell_type": "markdown",
   "metadata": {},
   "source": [
    "#### How many times does each letter in `letters` appear in `tup3`?\n",
    "\n",
    "Print out the number of occurrence of each letter."
   ]
  },
  {
   "cell_type": "code",
   "execution_count": 113,
   "metadata": {},
   "outputs": [
    {
     "name": "stdout",
     "output_type": "stream",
     "text": [
      "Number of times a letter in letters appear in top3:  2\n"
     ]
    }
   ],
   "source": [
    "# Your code here\n",
    "print(\"Number of times a letter in letters appear in top3: \",result.count(True))"
   ]
  },
  {
   "cell_type": "code",
   "execution_count": null,
   "metadata": {},
   "outputs": [],
   "source": []
  }
 ],
 "metadata": {
  "kernelspec": {
   "display_name": "Python 3 (ipykernel)",
   "language": "python",
   "name": "python3"
  },
  "language_info": {
   "codemirror_mode": {
    "name": "ipython",
    "version": 3
   },
   "file_extension": ".py",
   "mimetype": "text/x-python",
   "name": "python",
   "nbconvert_exporter": "python",
   "pygments_lexer": "ipython3",
   "version": "3.10.13"
  }
 },
 "nbformat": 4,
 "nbformat_minor": 2
}
