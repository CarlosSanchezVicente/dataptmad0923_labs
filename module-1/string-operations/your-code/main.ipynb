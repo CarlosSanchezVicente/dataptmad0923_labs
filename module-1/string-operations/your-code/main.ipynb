{
 "cells": [
  {
   "cell_type": "markdown",
   "metadata": {},
   "source": [
    "# Before your start:\n",
    "- Read the README.md file\n",
    "- Comment as much as you can and use the resources in the README.md file\n",
    "- Happy learning!"
   ]
  },
  {
   "cell_type": "code",
   "execution_count": 20,
   "metadata": {},
   "outputs": [],
   "source": [
    "import re"
   ]
  },
  {
   "cell_type": "markdown",
   "metadata": {},
   "source": [
    "# Challenge 1 - Combining Strings\n",
    "\n",
    "Combining strings is an important skill to acquire. There are multiple ways of combining strings in Python, as well as combining strings with variables. We will explore this in the first challenge. In the cell below, combine the strings in the list and add spaces between the strings (do not add a space after the last string). Insert a period after the last string."
   ]
  },
  {
   "cell_type": "code",
   "execution_count": 1,
   "metadata": {},
   "outputs": [
    {
     "name": "stdout",
     "output_type": "stream",
     "text": [
      "Durante un tiempo no estuvo segura de si su marido era su marido.\n"
     ]
    }
   ],
   "source": [
    "str_list = ['Durante', 'un', 'tiempo', 'no', 'estuvo', 'segura', 'de', 'si', 'su', 'marido', 'era', 'su', 'marido']\n",
    "# Your code here: Option 1\n",
    "str_empty = \"\"   # String empty\n",
    "count = 0   # Counter to know when the loop reaches to the last str\n",
    "\n",
    "for str in str_list:\n",
    "    str_empty = str_empty + str   # Concatenate and store the str in str_empty\n",
    "    if len(str_list)-1 != count:\n",
    "        str_empty += \" \"   # Concatanate \" \" if the loop hasn't reached to the last str\n",
    "    else:\n",
    "        str_empty += \".\"   # Concatanate \".\" if the loop has reached to the last str\n",
    "    count += 1   # Increment the count\n",
    "    \n",
    "print(str_empty)"
   ]
  },
  {
   "cell_type": "code",
   "execution_count": 2,
   "metadata": {},
   "outputs": [
    {
     "name": "stdout",
     "output_type": "stream",
     "text": [
      "Durante un tiempo no estuvo segura de si su marido era su marido.\n"
     ]
    }
   ],
   "source": [
    "# Your code here: Option 2\n",
    "str_empty = \" \".join(str_list)\n",
    "str_empty += \".\"\n",
    "print(str_empty)"
   ]
  },
  {
   "cell_type": "markdown",
   "metadata": {},
   "source": [
    "In the cell below, use the list of strings to create a grocery list. Start the list with the string `Grocery list: ` and include a comma and a space between each item except for the last one. Include a period at the end. Only include foods in the list that start with the letter 'b' and ensure all foods are lower case."
   ]
  },
  {
   "cell_type": "code",
   "execution_count": 11,
   "metadata": {},
   "outputs": [
    {
     "name": "stdout",
     "output_type": "stream",
     "text": [
      "bananas, bread, brownie mix, broccoli.\n"
     ]
    }
   ],
   "source": [
    "food_list = ['Bananas', 'Chocolate', 'bread', 'diapers', 'Ice Cream', 'Brownie Mix', 'broccoli']\n",
    "\n",
    "# Your code here: Option 1\n",
    "food_empty = \"\"   # String empty\n",
    "count = 0   # Counter to know when the loop reaches to the last str\n",
    "\n",
    "for str in food_list:\n",
    "    if str[0] == \"b\" or str[0] == \"B\":\n",
    "        food_empty += str.lower()   # Concatenate and store the str in str_empty if the first letter of the string\n",
    "                                    # is \"b\". Change uppercase letters to lowercase letters.  \n",
    "        if len(food_list)-1 != count:\n",
    "            food_empty += ', '   # Concatanate \" \" if the loop hasn't reached to the last str\n",
    "            \n",
    "    if len(food_list)-1 == count:\n",
    "        food_empty += \".\"   # Concatanate \".\" if the loop has reached to the last str\n",
    "    count += 1   # Increment the count\n",
    "    \n",
    "print(food_empty)"
   ]
  },
  {
   "cell_type": "code",
   "execution_count": 6,
   "metadata": {},
   "outputs": [
    {
     "name": "stdout",
     "output_type": "stream",
     "text": [
      "bananas, bread, brownie mix, broccoli.\n"
     ]
    }
   ],
   "source": [
    "# Your code here: Option 2\n",
    "food_empty_list = []   # String empty\n",
    "count = 0   # Counter to know when the loop reaches to the last str\n",
    "\n",
    "for str in food_list:\n",
    "    if str[0] == \"b\" or str[0] == \"B\":\n",
    "        food_empty_list.append(str.lower())   # Store the str in a list if the first letter is \"b\".\n",
    "\n",
    "food_empty = \", \".join(food_empty_list)   # Concatenate the elements of the list separated by \", \"\n",
    "food_empty += \".\"   # Add \".\" at the end of string\n",
    "print(food_empty)"
   ]
  },
  {
   "cell_type": "markdown",
   "metadata": {},
   "source": [
    "In the cell below, write a function that computes the area of a circle using its radius. Compute the area of the circle and insert the radius and the area between the two strings. Make sure to include spaces between the variable and the strings. \n",
    "\n",
    "Note: You can use the techniques we have learned so far or use f-strings. F-strings allow us to embed code inside strings. You can read more about f-strings [here](https://www.python.org/dev/peps/pep-0498/)."
   ]
  },
  {
   "cell_type": "code",
   "execution_count": 13,
   "metadata": {},
   "outputs": [
    {
     "name": "stdout",
     "output_type": "stream",
     "text": [
      "78.53981633974483\n",
      "The area of the circle is: 78.53981634 with radius 5.0\n"
     ]
    }
   ],
   "source": [
    "import math\n",
    "\n",
    "string1 = \"The area of the circle with radius:\"\n",
    "string2  = \"is:\"\n",
    "radius = 5.0\n",
    "\n",
    "def area(x, pi = math.pi):\n",
    "    \"\"\"\n",
    "    This function takes a radius and returns the area of a circle. \n",
    "    We also pass a default value for pi.\n",
    "    \n",
    "    Input: Float (and default value for pi)\n",
    "    Output: Float\n",
    "    \n",
    "    Sample input: 5.0\n",
    "    Sample Output: 78.53981633\n",
    "    \"\"\"\n",
    "    \n",
    "    # Your code here:\n",
    "    circle_area = pi*x**2\n",
    "    \n",
    "    return circle_area\n",
    "\n",
    "# Test \n",
    "print(area(radius))\n",
    "type(area(radius))\n",
    "\n",
    "# Your output string here:\n",
    "string3 = (f'The area of the circle {string2} {area(radius):.8f} with radius {radius}')\n",
    "print(string3)"
   ]
  },
  {
   "cell_type": "code",
   "execution_count": 14,
   "metadata": {},
   "outputs": [
    {
     "name": "stdout",
     "output_type": "stream",
     "text": [
      "The area of the circle 78.53981634 with radius 5.0\n"
     ]
    }
   ],
   "source": [
    "string3 = (f'The area of the circle {area(radius):.8f} with radius {radius}')\n",
    "print(string3)"
   ]
  },
  {
   "cell_type": "markdown",
   "metadata": {},
   "source": [
    "# Challenge 2 - Splitting Strings\n",
    "\n",
    "We have first looked at combining strings into one long string. There are times where we need to do the opposite and split the string into smaller components for further analysis. \n",
    "\n",
    "In the cell below, split the string into a list of strings using the space delimiter. Count the frequency of each word in the string in a dictionary. Strip the periods, line breaks and commas from the text. Make sure to remove empty strings from your dictionary."
   ]
  },
  {
   "cell_type": "code",
   "execution_count": 15,
   "metadata": {},
   "outputs": [
    {
     "data": {
      "text/plain": [
       "{'Some': 2,\n",
       " 'the': 1,\n",
       " 'will': 1,\n",
       " 'in': 3,\n",
       " 'From': 1,\n",
       " 'I’ve': 1,\n",
       " 'of': 2,\n",
       " 'I': 5,\n",
       " 'with': 1,\n",
       " 'who': 1,\n",
       " 'fire': 2,\n",
       " 'if': 1,\n",
       " 'had': 1,\n",
       " 'perish': 1,\n",
       " 'enough': 1,\n",
       " 'hate': 1,\n",
       " 'say': 3,\n",
       " 'for': 1,\n",
       " 'ice': 4,\n",
       " 'also': 1,\n",
       " 'And': 1,\n",
       " 'suffice': 1}"
      ]
     },
     "execution_count": 15,
     "metadata": {},
     "output_type": "execute_result"
    }
   ],
   "source": [
    "poem = \"\"\"Some say the world will end in fire,\n",
    "Some say in ice.\n",
    "From what I’ve tasted of desire\n",
    "I hold with those who favor fire.\n",
    "But if it had to perish twice,\n",
    "I think I know enough of hate\n",
    "To say that for destruction ice\n",
    "Is also great\n",
    "And would suffice.\"\"\"\n",
    "\n",
    "# Your code here:\n",
    "poem = poem.replace('\\n', ' ')\n",
    "\n",
    "# Split the poem in a list of strings\n",
    "character_del = [',', '.']\n",
    "for character in character_del:\n",
    "    poem = poem.replace(character, '')\n",
    "poem_list = poem.split(sep=\" \")\n",
    "\n",
    "# Count the number of repetitions of each word in the list\n",
    "count_list = {}\n",
    "for word in poem_list:\n",
    "    count_list [word] = poem.count(word)\n",
    "    poem_list.remove(word)\n",
    "count_list\n"
   ]
  },
  {
   "cell_type": "code",
   "execution_count": 16,
   "metadata": {},
   "outputs": [
    {
     "data": {
      "text/plain": [
       "'Some say the world will end in fire Some say in ice From what I’ve tasted of desire I hold with those who favor fire But if it had to perish twice I think I know enough of hate To say that for destruction ice Is also great And would suffice'"
      ]
     },
     "execution_count": 16,
     "metadata": {},
     "output_type": "execute_result"
    }
   ],
   "source": [
    "poem2 = poem.replace('\\n', ' ')\n",
    "poem2"
   ]
  },
  {
   "cell_type": "markdown",
   "metadata": {},
   "source": [
    "In the cell below, find all the words that appear in the text and do not appear in the blacklist. You must parse the string but can choose any data structure you wish for the words that do not appear in the blacklist. Remove all non letter characters and convert all words to lower case."
   ]
  },
  {
   "cell_type": "code",
   "execution_count": 18,
   "metadata": {},
   "outputs": [
    {
     "name": "stdout",
     "output_type": "stream",
     "text": [
      "i wasgry with my friend i told my wrath my wrath did endi wasgry with my foe i told not my wrath did grow i waterd fearsnight  morning with my tears i sunned with smilesand with soft deceitful wiles grew both day night till borepple bright my foe beheld shineand he knew that was mineto my garden stole when night had veild pole morning glad i see my foe outstretched beneath tree\n"
     ]
    }
   ],
   "source": [
    "blacklist = ['and', 'as', 'an', 'a', 'the', 'in', 'it']\n",
    "\n",
    "poem = \"\"\"I was angry with my friend; \n",
    "I told my wrath, my wrath did end.\n",
    "I was angry with my foe: \n",
    "I told it not, my wrath did grow. \n",
    "\n",
    "And I waterd it in fears,\n",
    "Night & morning with my tears: \n",
    "And I sunned it with smiles,\n",
    "And with soft deceitful wiles. \n",
    "\n",
    "And it grew both day and night. \n",
    "Till it bore an apple bright. \n",
    "And my foe beheld it shine,\n",
    "And he knew that it was mine. \n",
    "\n",
    "And into my garden stole, \n",
    "When the night had veild the pole; \n",
    "In the morning glad I see; \n",
    "My foe outstretched beneath the tree.\"\"\"\n",
    "\n",
    "# Your code here:\n",
    "poem = poem.replace('\\n', '')\n",
    "\n",
    "# Split the poem in a list of strings\n",
    "character_del = [',', '.', ';', ':', '&']\n",
    "for character in character_del:\n",
    "    poem = poem.replace(character, '')\n",
    "poem = poem.lower()\n",
    "\n",
    "# Delete words from blacklist\n",
    "for word in blacklist: \n",
    "    poem = poem.replace(\" \"+word+\"\", '')\n",
    "print(poem)\n"
   ]
  },
  {
   "cell_type": "markdown",
   "metadata": {},
   "source": [
    "# Challenge 3 - Regular Expressions\n",
    "\n",
    "Sometimes, we would like to perform more complex manipulations of our string. This is where regular expressions come in handy. In the cell below, return all characters that are upper case from the string specified below."
   ]
  },
  {
   "cell_type": "code",
   "execution_count": 21,
   "metadata": {},
   "outputs": [
    {
     "data": {
      "text/plain": [
       "['T', 'P']"
      ]
     },
     "execution_count": 21,
     "metadata": {},
     "output_type": "execute_result"
    }
   ],
   "source": [
    "poem = \"\"\"The apparition of these faces in the crowd;\n",
    "Petals on a wet, black bough.\"\"\"\n",
    "\n",
    "# Your code here:\n",
    "regex_pattern = \"[A-Z]\"\n",
    "re.findall(regex_pattern, poem)"
   ]
  },
  {
   "cell_type": "markdown",
   "metadata": {},
   "source": [
    "In the cell below, filter the list provided and return all elements of the list containing a number. To filter the list, use the `re.search` function. Check if the function does not return `None`. You can read more about the `re.search` function [here](https://docs.python.org/3/library/re.html)."
   ]
  },
  {
   "cell_type": "code",
   "execution_count": 22,
   "metadata": {},
   "outputs": [
    {
     "name": "stdout",
     "output_type": "stream",
     "text": [
      "The result is 'None' for:  JANE\n",
      "['123abc', 'abc123', 'JohnSmith1', 'ABBY4']\n"
     ]
    }
   ],
   "source": [
    "data = ['123abc', 'abc123', 'JohnSmith1', 'ABBY4', 'JANE']\n",
    "\n",
    "# Your code here:\n",
    "result = []\n",
    "\n",
    "for element in data:\n",
    "    regex_pattern = \"\\w*[0-9]\\w*\"\n",
    "    \n",
    "    if re.search(regex_pattern, element) != None:\n",
    "        result.append(element)\n",
    "    else:\n",
    "        print(\"The result is 'None' for: \", element)\n",
    "        \n",
    "print(result)"
   ]
  },
  {
   "cell_type": "code",
   "execution_count": 23,
   "metadata": {},
   "outputs": [
    {
     "data": {
      "text/plain": [
       "['123abc', 'abc123', 'JohnSmith1', 'ABBY4']"
      ]
     },
     "execution_count": 23,
     "metadata": {},
     "output_type": "execute_result"
    }
   ],
   "source": [
    "data_str = \" \".join(data)\n",
    "regex_pattern = \"\\w*\\d\\w*\"\n",
    "re.findall(regex_pattern, data_str)"
   ]
  },
  {
   "cell_type": "markdown",
   "metadata": {},
   "source": [
    "# Bonus Challenge - Regular Expressions II\n",
    "\n",
    "In the cell below, filter the list provided to keep only strings containing at least one digit and at least one lower case letter. As in the previous question, use the `re.search` function and check that the result is not `None`.\n",
    "\n",
    "To read more about regular expressions, check out [this link](https://developers.google.com/edu/python/regular-expressions)."
   ]
  },
  {
   "cell_type": "code",
   "execution_count": 24,
   "metadata": {},
   "outputs": [
    {
     "name": "stdout",
     "output_type": "stream",
     "text": [
      "The result is 'None' for:  ABBY4\n",
      "The result is 'None' for:  JANE\n",
      "['123abc', 'abc123', 'JohnSmith1']\n"
     ]
    }
   ],
   "source": [
    "data = ['123abc', 'abc123', 'JohnSmith1', 'ABBY4', 'JANE']\n",
    "# Your code here:\n",
    "data = ['123abc', 'abc123', 'JohnSmith1', 'ABBY4', 'JANE']\n",
    "# Your code here:\n",
    "result = []\n",
    "\n",
    "for element in data:\n",
    "    regex_pattern = \"(?=.*[0-9])(?=.*[a-z])\"\n",
    "    \n",
    "    if re.search(regex_pattern, element) != None:\n",
    "        result.append(element)\n",
    "    else:\n",
    "        print(\"The result is 'None' for: \", element)\n",
    "        \n",
    "        \n",
    "'''\n",
    "Comments:\n",
    "    ?=  ->  With this operator the content of the parenthesis can be placed at any position in the string\n",
    "    .*  ->  This operator indicates that any number of characters is referenced. That is, for this case it \n",
    "            could be one or more consecutive numbers.\n",
    "'''\n",
    "\n",
    "print(result)"
   ]
  },
  {
   "cell_type": "code",
   "execution_count": null,
   "metadata": {},
   "outputs": [],
   "source": []
  }
 ],
 "metadata": {
  "kernelspec": {
   "display_name": "Python 3 (ipykernel)",
   "language": "python",
   "name": "python3"
  },
  "language_info": {
   "codemirror_mode": {
    "name": "ipython",
    "version": 3
   },
   "file_extension": ".py",
   "mimetype": "text/x-python",
   "name": "python",
   "nbconvert_exporter": "python",
   "pygments_lexer": "ipython3",
   "version": "3.10.13"
  }
 },
 "nbformat": 4,
 "nbformat_minor": 2
}
